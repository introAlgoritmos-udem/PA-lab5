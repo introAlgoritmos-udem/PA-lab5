{
 "cells": [
  {
   "cell_type": "markdown",
   "id": "cdc1baa4",
   "metadata": {},
   "source": [
    "[![Open In Colab](https://colab.research.google.com/assets/colab-badge.svg)](https://colab.research.google.com/github/introAlgoritmos-udem/PA-lab5/blob/main/laboratorio5-ejemplos.ipynb)"
   ]
  },
  {
   "attachments": {},
   "cell_type": "markdown",
   "id": "9342b411",
   "metadata": {},
   "source": [
    "# Funciones\n",
    "\n",
    "## Definición\n",
    "\n",
    "Una función es un **segmento de código** que ha sido **encapsulado** con un nombre para ser fácilmente **reutilizado** en diferentes partes de un programa o en otros programas.\n",
    "\n",
    "Una función que calcula el máximo de dos números sería:\n",
    "\n",
    "![funciones_1](funciones_1.png)"
   ]
  },
  {
   "cell_type": "markdown",
   "id": "9b439b2e",
   "metadata": {},
   "source": [
    "## Funciones en Python\n",
    "\n",
    "\n",
    "### Definicion de una función\n",
    "\n",
    "En la definición de una función se colocan las instrucciones que determinan la lógica de la función (lo que hace). La sintaxis de una función se muestra a continuación:\n",
    "\n",
    "```python\n",
    "def nombre de la funcion(lista de parametros formales): \n",
    "   cuerpo de la funcion\n",
    "```\n",
    "\n",
    "#### Ejemplo\n",
    "\n",
    "Realizar la definición de una función que calcule el mínimo de dos números:\n",
    "\n",
    "![funciones_2](funciones_2.png)"
   ]
  },
  {
   "cell_type": "code",
   "execution_count": null,
   "id": "c818e503",
   "metadata": {},
   "outputs": [],
   "source": [
    "def mini(x,y):\n",
    "    if (x < y):\n",
    "        menor = x        \n",
    "    else:\n",
    "        menor = y\n",
    "    return menor"
   ]
  },
  {
   "attachments": {},
   "cell_type": "markdown",
   "id": "f95ddc42",
   "metadata": {},
   "source": [
    "### Invocación de una Función\n",
    "\n",
    "Consiste en llamar la función desde alguna parte del codigo para su uso. La sintaxis se muestra a continuación:\n",
    "\n",
    "```python\n",
    "<variable => nombre de la funcion(lista de parametros actuales)\n",
    "```\n",
    "\n",
    "#### Ejemplo\n",
    "\n",
    "A continuación se muestra un ejemplo de la invocación de función mini (anteriormente definida):\n",
    "\n",
    "![funciones_3](funciones_3.png)\n"
   ]
  },
  {
   "cell_type": "code",
   "execution_count": null,
   "id": "8359a5d3",
   "metadata": {},
   "outputs": [],
   "source": [
    "M = mini(3,4)\n",
    "print(M)"
   ]
  },
  {
   "attachments": {},
   "cell_type": "markdown",
   "id": "b1f78904",
   "metadata": {},
   "source": [
    "## Argumentos de las funciones\n",
    "\n",
    "Hay dos maneras de pasar de argumentos en las funciones en Python:\n",
    "* **Posicionalmente**: Requiere que el argumento sea pasado siguiendo el mismo orden de los parámetros de la función.\n",
    "* **Por palabra clave**: Aquí se pasan los argumentos de la forma **clave = valor**.\n"
   ]
  },
  {
   "cell_type": "code",
   "execution_count": null,
   "id": "fae7c523",
   "metadata": {},
   "outputs": [],
   "source": [
    "def mini(x,y):\n",
    "    if (x<y):\n",
    "        menor = x\n",
    "        return menor\n",
    "    else:\n",
    "        menor = y\n",
    "        return menor\n",
    "\n",
    "a = mini(1,2) # posicional\n",
    "b = mini(x = 1, y = 2) # Por palabra clave\n",
    "c = mini(y = 2, x = 1) # Por palabra clave\n",
    "e = mini(1, y = 2) # Ambas\n",
    "e = mini(y = 2, 1) # ERROR!!!"
   ]
  },
  {
   "attachments": {},
   "cell_type": "markdown",
   "id": "323f6552",
   "metadata": {},
   "source": [
    "## Ejemplos\n",
    "\n",
    "#### Ejemplo 1\n",
    "\n",
    "Dado el siguiente código: \n",
    "* ¿Cuales serán los valores correspondientes a las variables a, b, c, d y e?\n",
    "* ¿Cuál será la salida en pantalla del programa?\n",
    "\n"
   ]
  },
  {
   "cell_type": "code",
   "execution_count": null,
   "id": "e91b38a1",
   "metadata": {},
   "outputs": [],
   "source": [
    "def mini(x,y):\n",
    "    if (x<y):\n",
    "        menor = x\n",
    "    else:\n",
    "        menor = y\n",
    "    return menor\n",
    "\n",
    "x, y, z = 1, 2, 3 \n",
    "a = mini(1,2)\n",
    "b = mini(x + z,y - 1)\n",
    "c = mini(4,(x+1)*z)\n",
    "d = mini(mini(2,3),4)\n",
    "e = mini(mini(2,3),mini(z+y,3))\n",
    "for i in range(4):\n",
    "    print(mini(i,z))\n",
    "    z-=1\n"
   ]
  },
  {
   "cell_type": "markdown",
   "id": "8ecca878",
   "metadata": {},
   "source": [
    "#### Ejemplo 2\n",
    "\n",
    "¿Cual es la salida del código mostrado a continuación?"
   ]
  },
  {
   "cell_type": "code",
   "execution_count": null,
   "id": "737fd8df",
   "metadata": {},
   "outputs": [],
   "source": [
    "def strIsIn(str1, str2, sen=True): \n",
    "    if not sen: \n",
    "        str1 = str1.lower() \n",
    "        str2 = str2.lower() \n",
    "    \n",
    "    if str1 in str2: \n",
    "        return 'Yes'\n",
    "    else: \n",
    "        return 'No'\n",
    "\n",
    "s1 = 'Hola' \n",
    "s2 = 'holas' \n",
    "\n",
    "print(strIsIn(s1, s2, False))\t# imprime Yes\n",
    "\n",
    "print(strIsIn(s1, s2, True))\t# imprime No\n",
    "\n",
    "print(strIsIn(s2, s1, False))\n",
    "\n",
    "print(strIsIn(sen=False, str2=s1, str1=s2))\n",
    "\n",
    "print(strIsIn(str2=s1, str1=s2))\n"
   ]
  },
  {
   "attachments": {},
   "cell_type": "markdown",
   "id": "1eb86512",
   "metadata": {},
   "source": [
    "#### Ejemplo 3\n",
    "\n",
    "Desarrolle un programa que haga uso de funciones de tal manera que convierta $°C$ a $°F$. Recuerde \tque la expresión de conversión es: \n",
    "\n",
    "$$°F = (9/5)°C + 32$$ "
   ]
  },
  {
   "cell_type": "code",
   "execution_count": null,
   "id": "ef979b15",
   "metadata": {},
   "outputs": [],
   "source": [
    "def celcius_to_fahrenheit(c):\n",
    "    f = (9.0/5)*c + 32\n",
    "    return f\n",
    "\n",
    "C = float(input(\"Ingrese los °C: \"))\n",
    "F = celcius_to_fahrenheit(C)\n",
    "print(C,\"°C =\",F,\"°F\")"
   ]
  },
  {
   "cell_type": "markdown",
   "id": "6025c59c",
   "metadata": {},
   "source": [
    "#### Ejemplo 3\n",
    "\n",
    "Hacer un programa que solicite la edad y el peso de dos personas y devuelva el menor peso y la menor edad de los ingresados.\n"
   ]
  },
  {
   "cell_type": "code",
   "execution_count": null,
   "id": "703d594d",
   "metadata": {},
   "outputs": [],
   "source": [
    "# Definición de la función\n",
    "def mini(x, y): \n",
    "    if x<y: \n",
    "        return x \n",
    "    else: \n",
    "        return y \n",
    "    \n",
    "# Invocación de la función\n",
    "age1 = int(input('Enter age of first person: '))\n",
    "weight1 = int(input('Enter weight of first person: ')) \n",
    "age2 = int(input('Enter age of second person: ')) \n",
    "weight2 = int(input('Enter weight of second person: ')) \n",
    "young = mini(age1, age2) \n",
    "slim = mini(weight1, weight2) \n",
    "print('The young one is', young, 'years old') \n",
    "print('and the slim one weights', slim, 'kilos')\n"
   ]
  },
  {
   "cell_type": "markdown",
   "id": "9186567c",
   "metadata": {},
   "source": [
    "#### Ejemplo 4\n",
    "\n",
    "Hacer una función que imprima **Welcome to Tijuana!!!**. \n",
    "\n",
    "**Solución**\n"
   ]
  },
  {
   "cell_type": "code",
   "execution_count": null,
   "id": "f85f9d88",
   "metadata": {},
   "outputs": [],
   "source": [
    "# Definicion\n",
    "def saludar():\n",
    "    print(\"Welcome to Tijuana\")\n",
    "    \n",
    "# Invocacion\n",
    "saludar()\n",
    "saludar()\n",
    "saludar()"
   ]
  },
  {
   "attachments": {},
   "cell_type": "markdown",
   "id": "04e4d059",
   "metadata": {},
   "source": [
    "#### Ejemplo 5\n",
    "\n",
    "Mejorar la función anterior de modo que escriba **N** veces **Welcome to Tijuana!!!**."
   ]
  },
  {
   "cell_type": "code",
   "execution_count": null,
   "id": "a8337931",
   "metadata": {},
   "outputs": [],
   "source": [
    "# Definición\n",
    "def saludarN(n):\n",
    "    for j in range(1,n+1):\n",
    "        print(\"Welcome to Tijuana\")\n",
    "\n",
    "# Invocación - pruebas\n",
    "saludarN(3)"
   ]
  },
  {
   "attachments": {},
   "cell_type": "markdown",
   "id": "5f27f16e",
   "metadata": {},
   "source": [
    "#### Ejemplo 6\n",
    "Diseñar una función que calcule la media de tres números."
   ]
  },
  {
   "cell_type": "code",
   "execution_count": null,
   "id": "0ccbc955",
   "metadata": {},
   "outputs": [],
   "source": [
    "def media(x, y, z):\n",
    "    m = (x + y + z)/3\n",
    "    return m\n",
    "\n",
    "# Invocación - pruebas\n",
    "x = media(3,1,4)\n",
    "print(x)\n",
    "print(media(1,1,1))"
   ]
  },
  {
   "cell_type": "markdown",
   "id": "b244a4cd",
   "metadata": {},
   "source": [
    "#### Ejemplo 7\n",
    "Diseñar una función que calcule el mayor de dos números enteros."
   ]
  },
  {
   "cell_type": "code",
   "execution_count": null,
   "id": "2e5681a5",
   "metadata": {},
   "outputs": [],
   "source": [
    "def mayor(x, y):\n",
    "    if(x > y):\n",
    "        M = x\n",
    "    else:\n",
    "        M = y\n",
    "    return M\n",
    "\n",
    "# Invocación - pruebas\n",
    "xx = mayor(2,8)\n",
    "print(xx)\n",
    "print(mayor(2,-8))"
   ]
  },
  {
   "cell_type": "markdown",
   "id": "2438483e",
   "metadata": {},
   "source": [
    "#### Ejemplo 8\n",
    "Diseñar una función que permita devolver el valor absoluto de un número."
   ]
  },
  {
   "cell_type": "code",
   "execution_count": null,
   "id": "aae6f6a6",
   "metadata": {},
   "outputs": [],
   "source": [
    "def absoluto(n):\n",
    "    if(n >= 0):\n",
    "        nAbs = n\n",
    "    else:\n",
    "        nAbs = -n\n",
    "    return nAbs\n",
    "\n",
    "# Invocación - pruebas\n",
    "\n",
    "\n",
    "print(absoluto(3))\n",
    "print(absoluto(-3))"
   ]
  },
  {
   "cell_type": "markdown",
   "id": "aac29951",
   "metadata": {},
   "source": [
    "#### Ejemplo 9\n",
    "Escribir una función booleana que determine si un carácter es uno de los dígitos 0 al 9."
   ]
  },
  {
   "cell_type": "code",
   "execution_count": null,
   "id": "f608f412",
   "metadata": {},
   "outputs": [],
   "source": [
    "def esDigito(ch):\n",
    "    if(\"0\" <= ch <= \"9\"):\n",
    "        return True\n",
    "    else:\n",
    "        return False\n",
    "    \n",
    "# Invocación - pruebas\n",
    "print(esDigito(\"x\"))\n",
    "print(esDigito(\"9\"))"
   ]
  },
  {
   "cell_type": "markdown",
   "id": "9ed8c581",
   "metadata": {},
   "source": [
    "#### Ejemplo 10\n",
    "Escribir una función que permite calcular el salario de un trabajador de acuerdo al numero de horas y el salario por hora. Para el calculo del salario tenga en cuenta que si el numero de horas ingresadas es mayor de 40 horas, se pagarán horas extras con un valor de  1,5 veces el valor de la hora normal."
   ]
  },
  {
   "cell_type": "code",
   "execution_count": null,
   "id": "b2947a65",
   "metadata": {},
   "outputs": [],
   "source": [
    "def calcularSalario(hr, v):\n",
    "    if(hr <= 40):\n",
    "        pago = hr*v\n",
    "    else:\n",
    "        pago = 40*v + (hr - 40)*1.5*v\n",
    "    return pago\n",
    "\n",
    "# Invocación - pruebas\n",
    "print(calcularSalario(30,1000))\n",
    "print(calcularSalario(40,1000))\n",
    "print(calcularSalario(50,1000))"
   ]
  },
  {
   "cell_type": "markdown",
   "id": "cd812ee4",
   "metadata": {},
   "source": [
    "#### Ejemplo 12\n",
    "Escriba una función que calcule la suma de los dígitos de un número entero. Use la siguiente cabecera:\n",
    "\n",
    "```python\n",
    "def sumDigits(n): \n",
    "    # Code here...\n",
    "    pass\n",
    "```\n",
    "\n",
    "Por ejemplo, ```sumDigits(234)``` retornara ```9``` (```2 + 3 + 4```). (Clave: Use el operador % para extraer los dígitos y el operador // para remover el digito extraído). Por ejemplo, para extraer el ```4``` de 234, use ```234 % 10``` (```=4```) para remover el ```4``` de ```234``` (```=23```). Use un ciclo para extraer y remover repetidamente los dígitos hasta que estos sean extraídos). Escriba un programa de test que le solicite al usuario entrar el entero y que despliegue la suma de todos sus dígitos usando esta función.\n",
    "\t\n",
    "\n"
   ]
  },
  {
   "cell_type": "code",
   "execution_count": null,
   "id": "4a0a6301",
   "metadata": {},
   "outputs": [],
   "source": []
  },
  {
   "attachments": {},
   "cell_type": "markdown",
   "id": "ac37c357",
   "metadata": {},
   "source": [
    "#### Ejemplo 13\n",
    "\n",
    "Escriba una función que permita desplegar un entero en orden inverso siguiendo la siguiente cabecera:  \n",
    "\n",
    "```python\n",
    "def reverse(number): \t\n",
    "    # Code here...\n",
    "    pass\n",
    "```\n",
    "\n",
    "Por ejemplo, Por ejemplo, ```reverse(3456)``` despliega ```6543```. Escriba un programa de test que solicite al usuario y despliegue su número al revés.\t"
   ]
  },
  {
   "cell_type": "code",
   "execution_count": null,
   "id": "de8f41c9",
   "metadata": {},
   "outputs": [],
   "source": []
  },
  {
   "attachments": {},
   "cell_type": "markdown",
   "id": "68aaaf7b",
   "metadata": {},
   "source": [
    "#### Ejemplo 14\n",
    "\n",
    "Escriba una función que permita calcular el factorial de un numero siguiendo la siguiente cabecera:  \n",
    "\n",
    "```python\n",
    "def factorial(number): \t\n",
    "    # Code here...\n",
    "    pass\n",
    "```\n",
    "\n",
    "Luego pruebe el funcionamiento correcto de la función."
   ]
  },
  {
   "cell_type": "code",
   "execution_count": null,
   "id": "aa620ab9",
   "metadata": {},
   "outputs": [],
   "source": []
  },
  {
   "attachments": {},
   "cell_type": "markdown",
   "id": "0d27ecbb",
   "metadata": {},
   "source": [
    "#### Ejemplo 15\n",
    "\n",
    "Elaborar una función que, dado un valor de x, determine la suma de los N primeros términos de la serie:\n",
    "\n",
    "$$f(x) = \\frac{x}{2!} + \\frac{2x^2}{4!} + \\frac{x}{2!} + \\frac{3x^3}{6!} + \\frac{4x^4}{4!} + \\frac{5x^5}{10!} + ...$$\n",
    "\n",
    "**Tip**: Use la función factorial, previamente creada. "
   ]
  },
  {
   "cell_type": "code",
   "execution_count": null,
   "id": "b57b727d",
   "metadata": {},
   "outputs": [],
   "source": []
  },
  {
   "cell_type": "markdown",
   "id": "f0831a7a",
   "metadata": {},
   "source": [
    "#### Ejemplo 16\n",
    "\n",
    "Una necesidad frecuente e importante en la vida diaria es conocer el número de combinaciones que se pueden construir con **n** elementos tomados en grupos de a **r**. Por ejemplo, si se tiene un equipo de baloncesto y se dispone de 8 jugadores, se busca determinar cuántas formaciones diferentes se pueden hacer. \n",
    "\n",
    "Matematicamente, la solución está dada por la formula:\n",
    "\n",
    "$C_{r}^{n}=\\begin{pmatrix}n\\\\ r\\end{pmatrix} = \\frac{n!}{r!(n-r)!}$\n",
    "\n",
    "Siendo **n** el total de elementos **y** r el número de elementos a escoger."
   ]
  },
  {
   "cell_type": "markdown",
   "id": "a2749c22",
   "metadata": {},
   "source": [
    "#### **Solución ejemplo uno sin el uso de funciones**"
   ]
  },
  {
   "cell_type": "code",
   "execution_count": null,
   "id": "1a7be5bc",
   "metadata": {},
   "outputs": [],
   "source": [
    "''' Programa principal '''\n",
    "\n",
    "n = int(input(\"Entre valor de n \"))\n",
    "r = int(input(\"Entre valor de r \"))\n",
    "\n",
    "fn = 1\n",
    "for i in range(1, n + 1):\n",
    "    fn = fn * i\n",
    "    fr = 1\n",
    "\n",
    "for i in range(1, r + 1):\n",
    "    fr = fr * i\n",
    "    fnr = 1\n",
    "\n",
    "for i in range(1, n - r + 1):\n",
    "    fnr = fnr * i\n",
    "    nc = fn // fr // fnr\n",
    "\n",
    "print(\"n =\", n, \" r =\", r)\n",
    "print(\"Factorial de n =\", fn) \n",
    "print(\"Factorial de r =\", fr)\n",
    "print(\"Factorial de n - r =\", fnr)\n",
    "print(\"Número de combinaciones =\", nc)"
   ]
  },
  {
   "cell_type": "markdown",
   "id": "520c4f4f",
   "metadata": {},
   "source": [
    "#### **Solución ejemplo uno usando funciones**"
   ]
  },
  {
   "cell_type": "code",
   "execution_count": null,
   "id": "7eaeb1e9",
   "metadata": {},
   "outputs": [],
   "source": [
    "''' Funciones '''\n",
    "def factorial(n):\n",
    "    f = 1\n",
    "    for i in range (1, n + 1):\n",
    "        f = f * i\n",
    "    return f\n",
    "\n",
    "''' Programa principal '''\n",
    "n = int (input(\"Entre valor de n \"))\n",
    "r = int (input(\"Entre valor de r \"))\n",
    "fn = factorial(n)\n",
    "fr = factorial(r)\n",
    "fnr = factorial(n - r)\n",
    "nc = fn // fr // fnr\n",
    "print(\"n =\", n, \" r =\", r)\n",
    "print(\"Factorial de n =\", fn) \n",
    "print(\"Factorial de r =\", fr)\n",
    "print(\"Factorial de n - r =\", fnr)\n",
    "print(\"Número de combinaciones =\", nc)"
   ]
  },
  {
   "cell_type": "markdown",
   "id": "c7fdd0a8",
   "metadata": {},
   "source": [
    "### **Ejemplo 2**\n",
    "Leer dos enteros y determinar:\n",
    "1. Si alguno de ellos es número primo.\n",
    "2. El máximo común divisor de ellos.\n",
    "3. El mínimo común múltiplo de ellos.\n",
    "4. El dígito con el que comienza cada uno de ellos."
   ]
  },
  {
   "cell_type": "code",
   "execution_count": null,
   "id": "b33de61a",
   "metadata": {},
   "outputs": [],
   "source": [
    "%%tutor -l python3 -k\n",
    "import math\n",
    "\n",
    "def esPrimo(n):\n",
    "    if n%2 == 0:\n",
    "        return False\n",
    "    i = 3\n",
    "    while i <= math.sqrt(i):\n",
    "        if n%i == 0:\n",
    "            return False\n",
    "        i = i + 2\n",
    "    return True\n",
    "\n",
    "def comienzaCon (x):\n",
    "    pd = x\n",
    "    while pd > 9:\n",
    "        pd = pd // 10\n",
    "    return pd\n",
    "\n",
    "def mcd(x, y):\n",
    "    res = x%y\n",
    "    while res != 0:\n",
    "        x = y\n",
    "        y = res\n",
    "        res = x%y\n",
    "    return y\n",
    "\n",
    "def mcm(x, y):\n",
    "    return x * y // mcd (x,y)\n",
    "\n",
    "a = int(input(\"Entre valor de a\"))\n",
    "b = int(input(\"Entre valor de b\"))\n",
    "if esPrimo(a):\n",
    "    print(a, \"es primo\")\n",
    "else:\n",
    "    print (a, \"NO es primo\")\n",
    "\n",
    "if esPrimo(b):\n",
    "    print(b, \"es primo\")\n",
    "else:\n",
    "    print (b, \"NO es primo\")\n",
    "\n",
    "mcd = mcd(a,b)\n",
    "print(\"El máximo común divisor de\", a, \" y\", b, \" es\", mcd)\n",
    "mcm = mcm(a,b)\n",
    "print(\"El mínimo común múltiplo de\", a, \" y\", b, \" es\", mcm)\n",
    "da = comienzaCon(a)\n",
    "print(\"El primer dígito de\", a, \" es\")\n",
    "db = comienzaCon(b)\n",
    "print(\"El primer dígito de\", b, \" es\", db)"
   ]
  }
 ],
 "metadata": {
  "kernelspec": {
   "display_name": "Python 3",
   "language": "python",
   "name": "python3"
  },
  "language_info": {
   "codemirror_mode": {
    "name": "ipython",
    "version": 3
   },
   "file_extension": ".py",
   "mimetype": "text/x-python",
   "name": "python",
   "nbconvert_exporter": "python",
   "pygments_lexer": "ipython3",
   "version": "3.8.8"
  }
 },
 "nbformat": 4,
 "nbformat_minor": 5
}
